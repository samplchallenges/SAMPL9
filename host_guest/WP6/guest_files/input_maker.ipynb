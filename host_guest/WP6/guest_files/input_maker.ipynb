{
 "cells": [
  {
   "cell_type": "markdown",
   "metadata": {},
   "source": [
    "# Do some simple prep of compound structures from SMILES strings"
   ]
  },
  {
   "cell_type": "code",
   "execution_count": 1,
   "metadata": {},
   "outputs": [
    {
     "name": "stdout",
     "output_type": "stream",
     "text": [
      "Getting list of molecule IDs...\n",
      "Done!\n"
     ]
    }
   ],
   "source": [
    "# Make lists of the guest smiles strings and the molecule identifiers \n",
    "file = 'WP6_guest_smiles.txt'\n",
    "\n",
    "file = open(file, 'r')\n",
    "text = file.readlines()\n",
    "file.close()\n",
    "\n",
    "print(\"Getting list of molecule IDs...\")   \n",
    "MoleculeIDs = [] #SAMPL9 Molecule ID \n",
    "smiles = [] #isomeric SMILES\n",
    "\n",
    "#Loop over lines and parse\n",
    "for line in text:\n",
    "    tmp = line.split(';') #Split into columns\n",
    "    MoleculeID = tmp[1].strip() #mol ID\n",
    "    smi = tmp[0] #smiles string\n",
    "    try:\n",
    "        MoleculeIDs.append(MoleculeID)\n",
    "        smiles.append(smi)\n",
    "    except:\n",
    "        print(\"Error storing line: %s\" % line)\n",
    "print(\"Done!\")"
   ]
  },
  {
   "cell_type": "markdown",
   "metadata": {},
   "source": [
    "## Parse SMILES, store molecules"
   ]
  },
  {
   "cell_type": "code",
   "execution_count": 2,
   "metadata": {},
   "outputs": [],
   "source": [
    "from openeye.oechem import *\n",
    "from openeye.oeomega import * # conformer generation\n",
    "from openeye.oequacpac import * \n",
    "\n",
    "\n",
    "mols_by_ID = {}\n",
    "for idx in range(len(smiles)):\n",
    "    # Generate new OEMol and parse SMILES\n",
    "    mol = OEMol()\n",
    "    OEParseSmiles( mol, smiles[idx])\n",
    "    # Set neutral pH model to pick a \"reasonable\" neutral protonation state per OpenEye's Quacpac\n",
    "    OESetNeutralpHModel(mol)\n",
    "    mols_by_ID[MoleculeIDs[idx]] = mol\n"
   ]
  },
  {
   "cell_type": "markdown",
   "metadata": {},
   "source": [
    "## Tweak protonation states for some compounds\n",
    "\n",
    "If compounds come up as neutral which should be protonated fix them here "
   ]
  },
  {
   "cell_type": "code",
   "execution_count": 17,
   "metadata": {},
   "outputs": [],
   "source": [
    "for mol_id in ['G4', 'G5']:\n",
    "    mol = mols_by_ID[mol_id]\n",
    "    for atom in mol.GetAtoms():\n",
    "        if atom.GetAtomicNum()==7:\n",
    "            atom.SetFormalCharge(1)\n",
    "    mols_by_ID[mol_id]=mol"
   ]
  },
  {
   "cell_type": "markdown",
   "metadata": {},
   "source": [
    "# Generate conformers and assign partial charges"
   ]
  },
  {
   "cell_type": "code",
   "execution_count": 3,
   "metadata": {},
   "outputs": [
    {
     "name": "stdout",
     "output_type": "stream",
     "text": [
      "Error generating conformers for G3\n"
     ]
    }
   ],
   "source": [
    "for mol_id in mols_by_ID:\n",
    "    #initialize omega, this is a conformation generator\n",
    "    omega = OEOmega()\n",
    "    #set the maximum conformer generated to 1\n",
    "    omega.SetMaxConfs(1) \n",
    "    omega.SetIncludeInput(False)\n",
    "    omega.SetStrictAtomTypes(False) #Leniency in assigning atom types\n",
    "    omega.SetStrictStereo(True) #Don't generate conformers if stereochemistry not provided. Setting to false would pick a random stereoisomer\n",
    "    \n",
    "\n",
    "    mol = mols_by_ID[mol_id]\n",
    "    # Generate one conformer\n",
    "    status = omega(mol)\n",
    "    if not status:\n",
    "        print(\"Error generating conformers for %s\" % (mol_id))\n",
    "\n",
    "    # Assign charges\n",
    "    OEAssignPartialCharges(mol, OECharges_AM1BCC)\n",
    "        \n",
    "    # Write out PDB of molecule\n",
    "    ofile = oemolostream('%s.pdb'%(mol_id))\n",
    "    OEWriteMolecule(ofile, mol)\n",
    "    ofile.close()\n",
    "\n",
    "    # Write out MOL2 of molecule\n",
    "    ofile = oemolostream('%s.mol2'%(mol_id))\n",
    "    OEWriteMolecule(ofile, mol)\n",
    "    ofile.close()\n",
    "    \n",
    "    # Write out SDF of molecule\n",
    "    ofile = oemolostream('%s.sdf'%(mol_id))\n",
    "    OEWriteMolecule(ofile, mol)\n",
    "    ofile.close()"
   ]
  },
  {
   "cell_type": "markdown",
   "metadata": {},
   "source": [
    "## A couple of molecules have unspecified stereochemistry so pick a random stereoisomer\n",
    "\n",
    "G5 a nitrogen which would likely interconvert quickly in solution, but which needs stereochemistry specified for conformer generation. This may need attention from modelers, especially when there are other steroecenters."
   ]
  },
  {
   "cell_type": "code",
   "execution_count": 4,
   "metadata": {},
   "outputs": [],
   "source": [
    "# Make files for G3 by picking a random stereoisomer\n",
    "# Comes up only when we set to neutral pH\n",
    "# so it's likely protonation of the nitrogen? \n",
    "problem_IDs = ['G3']\n",
    "\n",
    "omega = OEOmega()\n",
    "#set the maximum conformer generated to 1\n",
    "omega.SetMaxConfs(1) \n",
    "omega.SetIncludeInput(False)\n",
    "omega.SetStrictAtomTypes(False) #Leniency in assigning atom types\n",
    "omega.SetStrictStereo(False) #Don't generate conformers if stereochemistry not provided. Setting to false would pick a random stereoisomer\n",
    "\n",
    "for mol_id in problem_IDs:\n",
    "    # Generate new OEMol and parse SMILES\n",
    "    mol = mols_by_ID[mol_id]\n",
    "    # Generate one conformer\n",
    "    status = omega(mol)\n",
    "    if not status:\n",
    "        print(\"Error generating conformers for %s, %s. Mol index is %s\" % (smiles[idx], MoleculeIDs[idx],idx))\n",
    "\n",
    "    \n",
    "    # Assign charges\n",
    "    OEAssignPartialCharges(mol, OECharges_AM1BCC)    \n",
    "    \n",
    "    # Write out PDB of molecule\n",
    "    ofile = oemolostream('%s.pdb'%(mol_id))\n",
    "    OEWriteMolecule(ofile, mol)\n",
    "    ofile.close()\n",
    "\n",
    "    # Write out MOL2 of molecule\n",
    "    ofile = oemolostream('%s.mol2'%(mol_id))\n",
    "    OEWriteMolecule(ofile, mol)\n",
    "    ofile.close()\n",
    "\n",
    "    # Write out SDF of molecule\n",
    "    ofile = oemolostream('%s.sdf'%(mol_id))\n",
    "    OEWriteMolecule(ofile, mol)\n",
    "    ofile.close()"
   ]
  }
 ],
 "metadata": {
  "kernelspec": {
   "display_name": "oepython",
   "language": "python",
   "name": "oepython"
  },
  "language_info": {
   "codemirror_mode": {
    "name": "ipython",
    "version": 3
   },
   "file_extension": ".py",
   "mimetype": "text/x-python",
   "name": "python",
   "nbconvert_exporter": "python",
   "pygments_lexer": "ipython3",
   "version": "3.6.7"
  },
  "toc": {
   "nav_menu": {},
   "number_sections": true,
   "sideBar": true,
   "skip_h1_title": false,
   "toc_cell": false,
   "toc_position": {},
   "toc_section_display": "block",
   "toc_window_display": false
  }
 },
 "nbformat": 4,
 "nbformat_minor": 2
}
