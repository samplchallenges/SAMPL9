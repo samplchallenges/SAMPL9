{
 "cells": [
  {
   "cell_type": "code",
   "execution_count": 1,
   "metadata": {},
   "outputs": [],
   "source": [
    "from openeye.oechem import *\n",
    "from openeye import oechem\n",
    "from openeye import oequacpac "
   ]
  },
  {
   "cell_type": "code",
   "execution_count": 2,
   "metadata": {},
   "outputs": [],
   "source": [
    "# From SMILES, save a PDB file using Marvin sketch. Then use Openeye to convert PDB to mol2\n",
    "from openeye import oechem\n",
    "\n",
    "ifs = oechem.oemolistream('WP6.pdb')\n",
    "ofs = oechem.oemolostream('WP6.mol2')\n",
    "\n",
    "ifs.SetFormat(oechem.OEFormat_PDB)\n",
    "ofs.SetFormat(oechem.OEFormat_MOL2)\n",
    "\n",
    "for mol in ifs.GetOEGraphMols():\n",
    "    oechem.OEWriteMolecule(ofs, mol)"
   ]
  },
  {
   "cell_type": "code",
   "execution_count": 3,
   "metadata": {},
   "outputs": [
    {
     "name": "stdout",
     "output_type": "stream",
     "text": [
      "True\n",
      "Done!\n"
     ]
    }
   ],
   "source": [
    "# load in mol2 file. Add charges to molecule\n",
    "ifs = oechem.oemolistream()\n",
    "ofs = oechem.oemolostream()\n",
    "if ifs.open(\"WP6.mol2\"):\n",
    "    if ofs.open(\"WP6_charge.mol2\"):\n",
    "        for mol in ifs.GetOEGraphMols():\n",
    "            oequacpac.OEAssignCharges(mol, oequacpac.OEAM1BCCCharges())\n",
    "            print(oequacpac.OEAssignCharges(mol, oequacpac.OEAM1BCCCharges()))\n",
    "            print(\"Done!\")\n",
    "            #oechem.OEWriteMolecule(ofs, mol)\n",
    "            oechem.OEWriteConstMolecule(ofs, mol) # this function writes a standardize mol (Tripos types in mol2)\n",
    "            # but without changing the molecule. Function does this by saving a copy of input mol before\n",
    "            # performing the necessary perceptions and standardizations. \n",
    "#         else:\n",
    "#             oechem.OEThrow.Fatal(\"Unable to 'Assign Charges'\")\n",
    "        \n",
    "#     else:\n",
    "#         oechem.OEThrow.Fatal(\"Unable to create 'charged mol file'\")\n",
    "# else:\n",
    "#     oechem.OEThrow.Fatal(\"Unable to open 'input file'\")"
   ]
  },
  {
   "cell_type": "code",
   "execution_count": 5,
   "metadata": {},
   "outputs": [],
   "source": [
    "#save an sdf version\n",
    "ifs = oechem.oemolistream('WP6_charge.mol2')\n",
    "ofs = oechem.oemolostream('WP6.sdf')\n",
    "\n",
    "ifs.SetFormat(oechem.OEFormat_MOL2)\n",
    "ofs.SetFormat(oechem.OEFormat_SDF)\n",
    "\n",
    "for mol in ifs.GetOEGraphMols():\n",
    "    oechem.OEWriteMolecule(ofs, mol)"
   ]
  }
 ],
 "metadata": {
  "kernelspec": {
   "display_name": "Python 3",
   "language": "python",
   "name": "python3"
  },
  "language_info": {
   "codemirror_mode": {
    "name": "ipython",
    "version": 3
   },
   "file_extension": ".py",
   "mimetype": "text/x-python",
   "name": "python",
   "nbconvert_exporter": "python",
   "pygments_lexer": "ipython3",
   "version": "3.6.7"
  }
 },
 "nbformat": 4,
 "nbformat_minor": 2
}
