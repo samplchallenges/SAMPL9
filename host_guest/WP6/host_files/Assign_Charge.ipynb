{
 "cells": [
  {
   "cell_type": "code",
   "execution_count": 2,
   "metadata": {},
   "outputs": [],
   "source": [
    "from openeye.oechem import *\n",
    "from openeye import oechem\n",
    "from openeye import oequacpac "
   ]
  },
  {
   "cell_type": "code",
   "execution_count": 3,
   "metadata": {},
   "outputs": [],
   "source": [
    "# Use Openeye to convert PDB (provided by Isaacs Lab) to mol2\n",
    "from openeye import oechem\n",
    "\n",
    "ifs = oechem.oemolistream('WP6.pdb')\n",
    "ofs = oechem.oemolostream('WP6.mol2')\n",
    "\n",
    "ifs.SetFormat(oechem.OEFormat_PDB)\n",
    "ofs.SetFormat(oechem.OEFormat_MOL2)\n",
    "\n",
    "for mol in ifs.GetOEGraphMols():\n",
    "    oechem.OEWriteMolecule(ofs, mol)"
   ]
  },
  {
   "cell_type": "code",
   "execution_count": 4,
   "metadata": {},
   "outputs": [
    {
     "name": "stdout",
     "output_type": "stream",
     "text": [
      "True\n",
      "Done!\n"
     ]
    }
   ],
   "source": [
    "# load in mol2 file. Add charges to molecule\n",
    "ifs = oechem.oemolistream()\n",
    "ofs = oechem.oemolostream()\n",
    "if ifs.open(\"WP6.mol2\"):\n",
    "    if ofs.open(\"WP6.mol2\"):\n",
    "        for mol in ifs.GetOEGraphMols():\n",
    "            oequacpac.OEAssignCharges(mol, oequacpac.OEAM1BCCCharges())\n",
    "            print(oequacpac.OEAssignCharges(mol, oequacpac.OEAM1BCCCharges()))\n",
    "            print(\"Done!\")\n",
    "            #oechem.OEWriteMolecule(ofs, mol)\n",
    "            oechem.OEWriteConstMolecule(ofs, mol) # this function writes a standardize mol (Tripos types in mol2)\n",
    "            # but without changing the molecule. Function does this by saving a copy of input mol before\n",
    "            # performing the necessary perceptions and standardizations. \n",
    "#         else:\n",
    "#             oechem.OEThrow.Fatal(\"Unable to 'Assign Charges'\")\n",
    "        \n",
    "#     else:\n",
    "#         oechem.OEThrow.Fatal(\"Unable to create 'charged mol file'\")\n",
    "# else:\n",
    "#     oechem.OEThrow.Fatal(\"Unable to open 'input file'\")"
   ]
  },
  {
   "cell_type": "markdown",
   "metadata": {},
   "source": [
    "### Edit mol2 file"
   ]
  },
  {
   "cell_type": "code",
   "execution_count": 5,
   "metadata": {},
   "outputs": [],
   "source": [
    "# source: https://github.com/choderalab/openmoltools/blob/1575b166d7c4bfdd74ea257dadefb10b4d3998f5/openmoltools/openeye.py#L357-L364\n",
    "\n",
    "# Replace <0> subsutructure names with valid text. Sometimes if this is not valid text\n",
    "#such as three characters (of numbers and letters) this causes errors.\n",
    "def edit_residue_name(tripos_mol2_filename, residue_name):\n",
    "    \"\"\"\n",
    "    Takes in a mol2 file saved with openeye toolkits, and edits the residue name of \n",
    "    '<0>' with a three character name ('residue_name') of your choosing. \n",
    "    Input parameters:\n",
    "    tripos_mol2_filename: type(str) - mol2 file\n",
    "    residue_name: type(str) - three character residue name to replace the default '<0>'\n",
    "    assigned from openeye toolkits.  \"\"\"\n",
    "    \n",
    "    infile = open(tripos_mol2_filename, 'r')\n",
    "    lines = infile.readlines()\n",
    "    infile.close()\n",
    "    \n",
    "    if len(residue_name) == 3:\n",
    "        newlines = [line.replace('<0>', residue_name) for line in lines]\n",
    "        outfile = open(tripos_mol2_filename, 'w')\n",
    "        outfile.writelines(newlines)\n",
    "        outfile.close()\n",
    "    elif len(residue_name) > 3 or len(residue_name) < 3:\n",
    "        print(\"The residue name {} you have chosen was not able to be added. Must be 3 characters\")\n",
    "        "
   ]
  },
  {
   "cell_type": "code",
   "execution_count": 6,
   "metadata": {},
   "outputs": [],
   "source": [
    "edit_residue_name('WP6.mol2', 'WP6')"
   ]
  },
  {
   "cell_type": "code",
   "execution_count": 7,
   "metadata": {},
   "outputs": [],
   "source": [
    "#save an sdf version\n",
    "ifs = oechem.oemolistream('WP6.mol2')\n",
    "ofs = oechem.oemolostream('WP6.sdf')\n",
    "\n",
    "ifs.SetFormat(oechem.OEFormat_MOL2)\n",
    "ofs.SetFormat(oechem.OEFormat_SDF)\n",
    "\n",
    "for mol in ifs.GetOEGraphMols():\n",
    "    oechem.OEWriteMolecule(ofs, mol)"
   ]
  }
 ],
 "metadata": {
  "kernelspec": {
   "display_name": "oepython",
   "language": "python",
   "name": "oepython"
  },
  "language_info": {
   "codemirror_mode": {
    "name": "ipython",
    "version": 3
   },
   "file_extension": ".py",
   "mimetype": "text/x-python",
   "name": "python",
   "nbconvert_exporter": "python",
   "pygments_lexer": "ipython3",
   "version": "3.6.7"
  }
 },
 "nbformat": 4,
 "nbformat_minor": 2
}
