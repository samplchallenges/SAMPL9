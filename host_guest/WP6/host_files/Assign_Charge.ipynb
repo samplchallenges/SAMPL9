{
 "cells": [
  {
   "cell_type": "code",
   "execution_count": 2,
   "metadata": {},
   "outputs": [],
   "source": [
    "from openeye.oechem import *\n",
    "from openeye import oechem\n",
    "from openeye import oequacpac "
   ]
  },
  {
   "cell_type": "code",
   "execution_count": 3,
   "metadata": {},
   "outputs": [
    {
     "name": "stdout",
     "output_type": "stream",
     "text": [
      "True\n",
      "Done!\n"
     ]
    }
   ],
   "source": [
    "# load in mol2 file \n",
    "ifs = oechem.oemolistream()\n",
    "ofs = oechem.oemolostream()\n",
    "if ifs.open(\"CB8.mol2\"):\n",
    "    if ofs.open(\"CB8_charge.mol2\"):\n",
    "        for mol in ifs.GetOEGraphMols():\n",
    "            oequacpac.OEAssignCharges(mol, oequacpac.OEAM1BCCCharges())\n",
    "            print(oequacpac.OEAssignCharges(mol, oequacpac.OEAM1BCCCharges()))\n",
    "            print(\"Done!\")\n",
    "            #oechem.OEWriteMolecule(ofs, mol)\n",
    "            oechem.OEWriteConstMolecule(ofs, mol) # this function writes a standardize mol (Tripos types in mol2)\n",
    "            # but without changing the molecule. Function does this by saving a copy of input mol before\n",
    "            # performing the necessary perceptions and standardizations. \n",
    "#         else:\n",
    "#             oechem.OEThrow.Fatal(\"Unable to 'Assign Charges'\")\n",
    "        \n",
    "#     else:\n",
    "#         oechem.OEThrow.Fatal(\"Unable to create 'charged mol file'\")\n",
    "# else:\n",
    "#     oechem.OEThrow.Fatal(\"Unable to open 'input file'\")"
   ]
  }
 ],
 "metadata": {
  "kernelspec": {
   "display_name": "Python 3",
   "language": "python",
   "name": "python3"
  },
  "language_info": {
   "codemirror_mode": {
    "name": "ipython",
    "version": 3
   },
   "file_extension": ".py",
   "mimetype": "text/x-python",
   "name": "python",
   "nbconvert_exporter": "python",
   "pygments_lexer": "ipython3",
   "version": "3.6.7"
  }
 },
 "nbformat": 4,
 "nbformat_minor": 2
}
